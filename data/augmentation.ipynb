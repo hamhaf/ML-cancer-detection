{
 "cells": [
  {
   "cell_type": "code",
   "execution_count": 7,
   "metadata": {},
   "outputs": [],
   "source": [
    "import pandas as pd, numpy as np, random\n",
    "random.seed(0)"
   ]
  },
  {
   "attachments": {},
   "cell_type": "markdown",
   "metadata": {},
   "source": [
    "# Augmentation\n",
    "\n",
    "Augment dataset by generating new neoplasia samples by averaging random neoplasia samples. This is better than scaling records (think of the effect on the spectra) imo - but this can be tested!\n",
    "\n",
    "I am augmenting using the training set, to avoid information leakage\n",
    "\n",
    "I am only uagmenting neoplasia, since looking at evaluation metrics and the spectra, squamous tissue is already successfuly / easily identified."
   ]
  },
  {
   "cell_type": "code",
   "execution_count": 53,
   "metadata": {},
   "outputs": [],
   "source": [
    "# augment dataset (balance NDBE and neoplasia)\n",
    "\n",
    "data = pd.read_csv('original_data/noExclusion_train_data.csv', header=None).reset_index(drop=True)\n",
    "label = pd.read_csv('original_data/noExclusion_train_label.csv', header=None, names=['label']).astype(int)\n",
    "combined = pd.merge(data, label, left_index=True, right_index=True)\n",
    "\n",
    "# print(combined['label'].value_counts())\n",
    "# 1: 137, 2: 257, 3: 178\n",
    "squamous = combined.loc[combined['label']==1].reset_index(drop=True)\n",
    "ndbe = combined.loc[combined['label']==2].reset_index(drop=True)\n",
    "neoplasia = combined.loc[combined['label']==3].reset_index(drop=True)\n",
    "\n",
    "# need to make 79 new neoplasia records\n",
    "for i in range(79):\n",
    "    rand1 = random.randint(0,178) # choose any of the neoplasia records\n",
    "    rand2 = random.randint(0,178)\n",
    "    records = neoplasia.iloc[[rand1,rand2]]\n",
    "    # average the 2 records to make a new neoplasia record\n",
    "    new_neoplasia = records.mean().to_frame().transpose()\n",
    "    neoplasia = pd.concat([neoplasia, new_neoplasia], axis=0)\n",
    "\n",
    "neoplasia.reset_index(drop=True)\n",
    "neoplasia['label'] = neoplasia['label'].astype(int)\n",
    "\n",
    "augmented = pd.concat([squamous, ndbe, neoplasia]).reset_index(drop=True)\n",
    "\n",
    "x_train = augmented.drop('label', axis=1)\n",
    "y_train = augmented['label']\n",
    "\n",
    "x_train.to_csv('augmented_data/train_data.csv', index=False, header=False)\n",
    "y_train.to_csv('augmented_data/train_label.csv', index=False, header=False)"
   ]
  },
  {
   "cell_type": "code",
   "execution_count": 23,
   "metadata": {},
   "outputs": [
    {
     "data": {
      "text/html": [
       "<div>\n",
       "<style scoped>\n",
       "    .dataframe tbody tr th:only-of-type {\n",
       "        vertical-align: middle;\n",
       "    }\n",
       "\n",
       "    .dataframe tbody tr th {\n",
       "        vertical-align: top;\n",
       "    }\n",
       "\n",
       "    .dataframe thead th {\n",
       "        text-align: right;\n",
       "    }\n",
       "</style>\n",
       "<table border=\"1\" class=\"dataframe\">\n",
       "  <thead>\n",
       "    <tr style=\"text-align: right;\">\n",
       "      <th></th>\n",
       "      <th>feature_1</th>\n",
       "      <th>feature_2</th>\n",
       "      <th>feature_3</th>\n",
       "      <th>feature_4</th>\n",
       "      <th>feature_5</th>\n",
       "      <th>feature_6</th>\n",
       "      <th>feature_7</th>\n",
       "      <th>feature_8</th>\n",
       "      <th>feature_9</th>\n",
       "      <th>feature_10</th>\n",
       "      <th>...</th>\n",
       "      <th>feature_425</th>\n",
       "      <th>feature_426</th>\n",
       "      <th>feature_427</th>\n",
       "      <th>feature_428</th>\n",
       "      <th>feature_429</th>\n",
       "      <th>feature_430</th>\n",
       "      <th>feature_431</th>\n",
       "      <th>feature_432</th>\n",
       "      <th>feature_433</th>\n",
       "      <th>label</th>\n",
       "    </tr>\n",
       "  </thead>\n",
       "  <tbody>\n",
       "    <tr>\n",
       "      <th>0</th>\n",
       "      <td>1.3729</td>\n",
       "      <td>1.334405</td>\n",
       "      <td>1.356105</td>\n",
       "      <td>1.36595</td>\n",
       "      <td>1.3783</td>\n",
       "      <td>1.373665</td>\n",
       "      <td>1.344525</td>\n",
       "      <td>1.322055</td>\n",
       "      <td>1.32998</td>\n",
       "      <td>1.30356</td>\n",
       "      <td>...</td>\n",
       "      <td>0.130855</td>\n",
       "      <td>0.14478</td>\n",
       "      <td>0.152909</td>\n",
       "      <td>0.163936</td>\n",
       "      <td>0.18169</td>\n",
       "      <td>0.181881</td>\n",
       "      <td>0.180264</td>\n",
       "      <td>0.178701</td>\n",
       "      <td>0.204537</td>\n",
       "      <td>3.0</td>\n",
       "    </tr>\n",
       "  </tbody>\n",
       "</table>\n",
       "<p>1 rows × 434 columns</p>\n",
       "</div>"
      ],
      "text/plain": [
       "   feature_1  feature_2  feature_3  feature_4  feature_5  feature_6  \\\n",
       "0     1.3729   1.334405   1.356105    1.36595     1.3783   1.373665   \n",
       "\n",
       "   feature_7  feature_8  feature_9  feature_10  ...  feature_425  feature_426  \\\n",
       "0   1.344525   1.322055    1.32998     1.30356  ...     0.130855      0.14478   \n",
       "\n",
       "   feature_427  feature_428  feature_429  feature_430  feature_431  \\\n",
       "0     0.152909     0.163936      0.18169     0.181881     0.180264   \n",
       "\n",
       "   feature_432  feature_433  label  \n",
       "0     0.178701     0.204537    3.0  \n",
       "\n",
       "[1 rows x 434 columns]"
      ]
     },
     "execution_count": 23,
     "metadata": {},
     "output_type": "execute_result"
    }
   ],
   "source": [
    "records.mean()\n",
    "mean = records.mean()\n",
    "mean.to_frame().transpose()"
   ]
  }
 ],
 "metadata": {
  "kernelspec": {
   "display_name": ".venv",
   "language": "python",
   "name": "python3"
  },
  "language_info": {
   "codemirror_mode": {
    "name": "ipython",
    "version": 3
   },
   "file_extension": ".py",
   "mimetype": "text/x-python",
   "name": "python",
   "nbconvert_exporter": "python",
   "pygments_lexer": "ipython3",
   "version": "3.9.2"
  },
  "orig_nbformat": 4
 },
 "nbformat": 4,
 "nbformat_minor": 2
}
