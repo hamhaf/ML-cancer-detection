{
 "cells": [
  {
   "cell_type": "code",
   "execution_count": 25,
   "metadata": {},
   "outputs": [],
   "source": [
    "import pandas as pd, numpy as np, random\n",
    "random.seed(0)\n",
    "OVERSAMPLE = False\n",
    "AUGMENT = True"
   ]
  },
  {
   "attachments": {},
   "cell_type": "markdown",
   "metadata": {},
   "source": [
    "# Augmentation\n",
    "\n",
    "Augment dataset by generating new neoplasia samples by averaging random neoplasia samples. This is better than scaling records (think of the effect on the spectra) imo - but this can be tested!\n",
    "\n",
    "I am augmenting using the training set, to avoid information leakage\n",
    "\n",
    "I am only uagmenting neoplasia, since looking at evaluation metrics and the spectra, squamous tissue is already successfuly / easily identified."
   ]
  },
  {
   "cell_type": "code",
   "execution_count": 26,
   "metadata": {},
   "outputs": [],
   "source": [
    "data = pd.read_csv('original_data/noExclusion_train_data.csv', header=None).reset_index(drop=True)\n",
    "label = pd.read_csv('original_data/noExclusion_train_label.csv', header=None, names=['label']).astype(int)\n",
    "combined = pd.merge(data, label, left_index=True, right_index=True)\n",
    "\n",
    "# print(combined['label'].value_counts())\n",
    "# 1: 137, 2: 257, 3: 178\n",
    "squamous = combined.loc[combined['label']==1].reset_index(drop=True)\n",
    "ndbe = combined.loc[combined['label']==2].reset_index(drop=True)\n",
    "neoplasia = combined.loc[combined['label']==3].reset_index(drop=True)"
   ]
  },
  {
   "cell_type": "code",
   "execution_count": 27,
   "metadata": {},
   "outputs": [],
   "source": [
    "# augment dataset (balance NDBE and neoplasia)\n",
    "\n",
    "if OVERSAMPLE:\n",
    "    # need to make 79 new neoplasia records\n",
    "    for i in range(79):\n",
    "        rand1 = random.randint(0,178) # choose any of the neoplasia records\n",
    "        rand2 = random.randint(0,178)\n",
    "        records = neoplasia.iloc[[rand1,rand2]]\n",
    "        # average the 2 records to make a new neoplasia record\n",
    "        new_neoplasia = records.mean().to_frame().transpose()\n",
    "        neoplasia = pd.concat([neoplasia, new_neoplasia], axis=0)\n",
    "\n",
    "    neoplasia.reset_index(drop=True)\n",
    "    neoplasia['label'] = neoplasia['label'].astype(int)\n",
    "\n",
    "    augmented = pd.concat([squamous, ndbe, neoplasia]).reset_index(drop=True)\n",
    "\n",
    "    x_train = augmented.drop('label', axis=1)\n",
    "    y_train = augmented['label']\n",
    "\n",
    "    x_train.to_csv('augmented_data/train_data.csv', index=False, header=False)\n",
    "    y_train.to_csv('augmented_data/train_label.csv', index=False, header=False)"
   ]
  },
  {
   "cell_type": "code",
   "execution_count": 28,
   "metadata": {},
   "outputs": [],
   "source": [
    "# augment dataset squamous to 150, NDBE and neoplasia to 300\n",
    "# why? To create more training, whilst not having too much fake data\n",
    "# any more tha 300 and neoplasia wouldve had more fake data than real\n",
    "# 300 for NDBE to match neoplasia and balance it, since they have similar spectra\n",
    "# 150 to squamous so it isn't too underrepresented - although it doesn't really struggle\n",
    "# since it is so distinct from NDBE and neoplasia\n",
    "\n",
    "if AUGMENT:\n",
    "    # need to make 122 new neoplasia records\n",
    "    for i in range(122):\n",
    "        rand1 = random.randint(0,178) # choose any of the neoplasia records\n",
    "        rand2 = random.randint(0,178)\n",
    "        records = neoplasia.iloc[[rand1,rand2]]\n",
    "        # average the 2 records to make a new neoplasia record\n",
    "        new_neoplasia = records.mean().to_frame().transpose()\n",
    "        neoplasia = pd.concat([neoplasia, new_neoplasia], axis=0).reset_index(drop=True)\n",
    "\n",
    "    # need to make 43 new ndbe records\n",
    "    for i in range(43):\n",
    "        rand1 = random.randint(0,257) # choose any of the ndbe records\n",
    "        rand2 = random.randint(0,257)\n",
    "        records = ndbe.iloc[[rand1,rand2]]\n",
    "        # average the 2 records to make a new ndbe record\n",
    "        new_ndbe = records.mean().to_frame().transpose()\n",
    "        ndbe = pd.concat([ndbe, new_ndbe], axis=0).reset_index(drop=True)\n",
    "\n",
    "    # need to make 13 new squamous records\n",
    "    for i in range(13):\n",
    "        rand1 = random.randint(0,137) # choose any of the ndbe records\n",
    "        rand2 = random.randint(0,137)\n",
    "        records = squamous.iloc[[rand1,rand2]]\n",
    "        # average the 2 records to make a new ndbe record\n",
    "        new_squamous = records.mean().to_frame().transpose()\n",
    "        squamous = pd.concat([squamous, new_squamous], axis=0).reset_index(drop=True)\n",
    "\n",
    "    augmented = pd.concat([squamous, ndbe, neoplasia]).reset_index(drop=True)\n",
    "\n",
    "    x_train = augmented.drop('label', axis=1)\n",
    "    y_train = augmented['label'].astype(int)\n",
    "\n",
    "    x_train.to_csv('augmented_datav2/train_data.csv', index=False, header=False)\n",
    "    y_train.to_csv('augmented_datav2/train_label.csv', index=False, header=False)"
   ]
  },
  {
   "cell_type": "code",
   "execution_count": 29,
   "metadata": {},
   "outputs": [
    {
     "data": {
      "text/plain": [
       "0      1\n",
       "1      1\n",
       "2      1\n",
       "3      1\n",
       "4      1\n",
       "      ..\n",
       "745    3\n",
       "746    3\n",
       "747    3\n",
       "748    3\n",
       "749    3\n",
       "Name: label, Length: 750, dtype: int32"
      ]
     },
     "execution_count": 29,
     "metadata": {},
     "output_type": "execute_result"
    }
   ],
   "source": [
    "len(squamous), len(ndbe), len(neoplasia), len(augmented)\n",
    "augmented['label'].value_counts()\n",
    "len(x_train), len(y_train)\n",
    "y_train"
   ]
  }
 ],
 "metadata": {
  "kernelspec": {
   "display_name": ".venv",
   "language": "python",
   "name": "python3"
  },
  "language_info": {
   "codemirror_mode": {
    "name": "ipython",
    "version": 3
   },
   "file_extension": ".py",
   "mimetype": "text/x-python",
   "name": "python",
   "nbconvert_exporter": "python",
   "pygments_lexer": "ipython3",
   "version": "3.9.2"
  },
  "orig_nbformat": 4
 },
 "nbformat": 4,
 "nbformat_minor": 2
}
