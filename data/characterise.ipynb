{
 "cells": [
  {
   "cell_type": "code",
   "execution_count": 2,
   "metadata": {},
   "outputs": [],
   "source": [
    "# python file to characterise the dataset\n",
    "\n",
    "# import libraries\n",
    "import pandas as pd\n",
    "import os\n"
   ]
  },
  {
   "cell_type": "code",
   "execution_count": 10,
   "metadata": {},
   "outputs": [
    {
     "name": "stdout",
     "output_type": "stream",
     "text": [
      "combined.csv: \n",
      "rows: 715 \n",
      "cols: 435\n",
      "label\n",
      "1.0    159\n",
      "2.0    320\n",
      "3.0    236\n",
      "dtype: int64\n"
     ]
    }
   ],
   "source": [
    "# csv file, read it in and output some statistics \n",
    "# include:\n",
    "    # count of each class (show imbalanced dataset) - show models overfit to majority class in imbalanced dataset\n",
    "    # count of rows and columns (wavelengths)\n",
    "    # range of numbers (sort by top 10 columns)\n",
    "    # number of 0s \n",
    "    # number of nulls\n",
    "    # any negative numbers?\n",
    "    # data types\n",
    "    # data format\n",
    "    # data precision\n",
    "    # number of distinct values\n",
    "    # modal value?\n",
    "\n",
    "    # order columns to get results for \"top 10\" columns for each \n",
    "    # categorisation task - dataset is too big to show all columns\n",
    "def characterise():\n",
    "    file = \"combined.csv\"\n",
    "    df = pd.read_csv(file)\n",
    "    print(f\"{file}: \\nrows: {df.shape[0]} \\ncols: {df.shape[1]}\")\n",
    "    n_squamous = df.groupby('label').size()# no.1s\n",
    "    print(n_squamous)\n",
    "\n",
    "# count of each class (show imbalanced dataset) - show models overfit to majority class in imbalanced dataset\n",
    "# count of rows and columns (wavelengths)\n",
    "# range of numbers (sort by top 10 columns)\n",
    "# number of 0s \n",
    "# number of nulls\n",
    "# any negative numbers?\n",
    "# data types\n",
    "# data format\n",
    "# data precision\n",
    "# number of distinct values\n",
    "# modal value?\n",
    "characterise()\n",
    "\n"
   ]
  },
  {
   "cell_type": "code",
   "execution_count": null,
   "metadata": {},
   "outputs": [],
   "source": [
    "# calculate statistical values such as mean, mode, median for each column"
   ]
  }
 ],
 "metadata": {
  "kernelspec": {
   "display_name": ".venv",
   "language": "python",
   "name": "python3"
  },
  "language_info": {
   "codemirror_mode": {
    "name": "ipython",
    "version": 3
   },
   "file_extension": ".py",
   "mimetype": "text/x-python",
   "name": "python",
   "nbconvert_exporter": "python",
   "pygments_lexer": "ipython3",
   "version": "3.9.2"
  },
  "orig_nbformat": 4
 },
 "nbformat": 4,
 "nbformat_minor": 2
}
