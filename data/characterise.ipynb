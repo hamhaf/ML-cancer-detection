{
 "cells": [
  {
   "cell_type": "code",
   "execution_count": 2,
   "metadata": {},
   "outputs": [],
   "source": [
    "# python file to characterise the dataset\n",
    "\n",
    "# import libraries\n",
    "import pandas as pd\n",
    "import os\n"
   ]
  },
  {
   "cell_type": "code",
   "execution_count": 23,
   "metadata": {},
   "outputs": [],
   "source": [
    "# csv file, read it in and output some statistics \n",
    "file = \"combined.csv\"\n",
    "df = pd.read_csv(file, index_col=0)"
   ]
  },
  {
   "cell_type": "code",
   "execution_count": 29,
   "metadata": {},
   "outputs": [
    {
     "data": {
      "text/plain": [
       "feature_1      float64\n",
       "feature_2      float64\n",
       "feature_3      float64\n",
       "feature_4      float64\n",
       "feature_5      float64\n",
       "                ...   \n",
       "feature_430    float64\n",
       "feature_431    float64\n",
       "feature_432    float64\n",
       "feature_433    float64\n",
       "label            int64\n",
       "Length: 434, dtype: object"
      ]
     },
     "execution_count": 29,
     "metadata": {},
     "output_type": "execute_result"
    }
   ],
   "source": [
    "df.dtypes"
   ]
  },
  {
   "cell_type": "code",
   "execution_count": 70,
   "metadata": {},
   "outputs": [
    {
     "data": {
      "text/plain": [
       "{'n_rows': 715,\n",
       " 'n_columns': 434,\n",
       " 'n_values': 310310,\n",
       " 'n_squamous': 159,\n",
       " 'n_ndbe': 320,\n",
       " 'n_neoplasia': 236,\n",
       " 'n_zeroes': 715,\n",
       " 'n_nulls': 0,\n",
       " 'n_negatives': 57,\n",
       " 'dtypes': [dtype('float64'), dtype('int64')],\n",
       " 'n_float64': 433,\n",
       " 'n_int64': 1,\n",
       " 'n_unique': 145211,\n",
       " 'top10_ranges': {'feature_127': 5.10342,\n",
       "  'feature_128': 5.0939499999999995,\n",
       "  'feature_123': 5.01679,\n",
       "  'feature_129': 4.96903,\n",
       "  'feature_131': 4.956600000000001,\n",
       "  'feature_125': 4.9508399999999995,\n",
       "  'feature_126': 4.921209999999999,\n",
       "  'feature_130': 4.91711,\n",
       "  'feature_120': 4.877619999999999,\n",
       "  'feature_119': 4.86939},\n",
       " 'bottom10_ranges': {'feature_355': 0.17462,\n",
       "  'feature_357': 0.17762,\n",
       "  'feature_353': 0.17836,\n",
       "  'feature_358': 0.17855,\n",
       "  'feature_356': 0.17867943,\n",
       "  'feature_354': 0.18157572000000002,\n",
       "  'feature_359': 0.18625,\n",
       "  'feature_360': 0.18784,\n",
       "  'feature_344': 0.1892599999999999,\n",
       "  'feature_345': 0.18952}}"
      ]
     },
     "execution_count": 70,
     "metadata": {},
     "output_type": "execute_result"
    }
   ],
   "source": [
    "# include:\n",
    "    # count of each class (show imbalanced dataset) - show models overfit to majority class in imbalanced dataset\n",
    "    # count of rows and columns (wavelengths)\n",
    "    # range of numbers (sort by top 10 columns)\n",
    "    # number of 0s \n",
    "    # number of nulls\n",
    "    # any negative numbers?\n",
    "    # data types\n",
    "    # data format\n",
    "    # data precision\n",
    "    # number of distinct values\n",
    "    # modal value?\n",
    "\n",
    "    # order columns to get results for \"top 10\" columns for each \n",
    "    # categorisation task - dataset is too big to show all columns\n",
    "\n",
    "\n",
    "# print(f\"{file}: \\nrows: {df.shape[0]} \\ncols: {df.shape[1]}\")\n",
    "results = {}\n",
    "\n",
    "# no. rows (tissue samples) & columns(wavelengths)\n",
    "n_rows = df.shape[0]\n",
    "results['n_rows'] = n_rows\n",
    "n_columns = df.shape[1]\n",
    "results['n_columns'] = n_columns\n",
    "# no. values in the df\n",
    "n_values = n_rows * n_columns\n",
    "results['n_values'] = n_values\n",
    "\n",
    "# count of each class (show imbalanced dataset) - show models overfit to majority class in imbalanced dataset\n",
    "n_classes = df.groupby('label').size() # no. times each class\n",
    "results['n_squamous'] = n_classes[1]\n",
    "results['n_ndbe'] = n_classes[2]\n",
    "results['n_neoplasia'] = n_classes[3]\n",
    "\n",
    "# number of 0s in entire df\n",
    "n_zeros = (df ==0).sum().sum() # (James, 2020)\n",
    "results['n_zeroes'] = n_zeros\n",
    "\n",
    "# number of nulls\n",
    "n_nulls = df.isna().sum().sum() # (Naveen, 2023)\n",
    "results['n_nulls'] = n_nulls\n",
    "\n",
    "# any negative numbers?\n",
    "# count number of values less than 0\n",
    "n_negatives = df.lt(0).sum().sum() # (Sanchit Aluna, 2016)\n",
    "negatives = df.lt(0)\n",
    "results['n_negatives'] = n_negatives\n",
    "\n",
    "# data types\n",
    "dtypes = df.dtypes.unique().tolist()\n",
    "results['dtypes'] = dtypes\n",
    "\n",
    "# number of columns of each type\n",
    "for dtype in dtypes:\n",
    "    # get len of columns array after filtering by each dtype\n",
    "    count = len(df.select_dtypes(include=[dtype]).columns)\n",
    "    # print(count)\n",
    "    results['n_'+str(dtype)] = count\n",
    "\n",
    "# data format\n",
    "\n",
    "\n",
    "# data precision\n",
    "\n",
    "\n",
    "# number of distinct values\n",
    "n_unique = df.stack().dropna().nunique()\n",
    "results['n_unique'] = n_unique\n",
    "\n",
    "# modal value?\n",
    "\n",
    "# range of numbers (sort by top 10 columns)\n",
    "ranges = {}\n",
    "for column in df.columns.tolist():\n",
    "    range = df[column].max() - df[column].min()\n",
    "    ranges[column] = range\n",
    "# sort by top 10 widest ranges\n",
    "count = 0\n",
    "sorted_ranges = {}\n",
    "for element in sorted(ranges.items(), key=lambda x: x[1], reverse=True): # (Gern Blanston, 2009)\n",
    "    sorted_ranges[element[0]] = element[1] \n",
    "    if count==9:\n",
    "        break\n",
    "    count+=1\n",
    "results['top10_ranges'] = sorted_ranges\n",
    "# 10 lowest ranges\n",
    "count = 0\n",
    "sorted_ranges = {}\n",
    "for element in sorted(ranges.items(), key=lambda x: x[1], reverse=False): # (Gern Blanston, 2009)\n",
    "    sorted_ranges[element[0]] = element[1] \n",
    "    if count==9:\n",
    "        break\n",
    "    count+=1\n",
    "results['bottom10_ranges'] = sorted_ranges\n",
    "\n",
    "results"
   ]
  },
  {
   "cell_type": "code",
   "execution_count": null,
   "metadata": {},
   "outputs": [],
   "source": [
    "# calculate statistical values such as mean, mode, median for each column"
   ]
  }
 ],
 "metadata": {
  "kernelspec": {
   "display_name": ".venv",
   "language": "python",
   "name": "python3"
  },
  "language_info": {
   "codemirror_mode": {
    "name": "ipython",
    "version": 3
   },
   "file_extension": ".py",
   "mimetype": "text/x-python",
   "name": "python",
   "nbconvert_exporter": "python",
   "pygments_lexer": "ipython3",
   "version": "3.9.2"
  },
  "orig_nbformat": 4
 },
 "nbformat": 4,
 "nbformat_minor": 2
}
