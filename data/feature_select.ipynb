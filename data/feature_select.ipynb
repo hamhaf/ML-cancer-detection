{
 "cells": [
  {
   "cell_type": "code",
   "execution_count": 1,
   "metadata": {},
   "outputs": [],
   "source": [
    "import pandas as pd, numpy as np"
   ]
  },
  {
   "cell_type": "code",
   "execution_count": 2,
   "metadata": {},
   "outputs": [],
   "source": [
    "file = \"combined.csv\"\n",
    "df = pd.read_csv(file, index_col=0)"
   ]
  },
  {
   "attachments": {},
   "cell_type": "markdown",
   "metadata": {},
   "source": [
    "make histograms for different wavelengths / bands of wavelengths \n",
    "\n",
    "showing distribution of the 3 classes at different values of attenuation\n",
    "\n",
    "choose the wavelengths with the least overlap / greatest contrast between classes\n",
    "\n",
    "(is there a way to measure this analytically?)\n",
    "\n",
    "could prioritise contrast between 2 classes over others \n",
    "\n",
    "e.g. prioritise contrast between 3 (neoplasia) and 2 (NDBE)\n",
    "\n",
    "over 1 (squamous) & 2 (NDBE)"
   ]
  }
 ],
 "metadata": {
  "kernelspec": {
   "display_name": ".venv",
   "language": "python",
   "name": "python3"
  },
  "language_info": {
   "codemirror_mode": {
    "name": "ipython",
    "version": 3
   },
   "file_extension": ".py",
   "mimetype": "text/x-python",
   "name": "python",
   "nbconvert_exporter": "python",
   "pygments_lexer": "ipython3",
   "version": "3.9.2"
  },
  "orig_nbformat": 4
 },
 "nbformat": 4,
 "nbformat_minor": 2
}
