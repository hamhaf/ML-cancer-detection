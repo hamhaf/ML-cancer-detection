{
 "cells": [
  {
   "cell_type": "code",
   "execution_count": 1,
   "metadata": {},
   "outputs": [],
   "source": [
    "# imports\n",
    "import pandas as pd"
   ]
  },
  {
   "cell_type": "code",
   "execution_count": 4,
   "metadata": {},
   "outputs": [
    {
     "data": {
      "text/plain": [
       "433"
      ]
     },
     "execution_count": 4,
     "metadata": {},
     "output_type": "execute_result"
    }
   ],
   "source": [
    "# create column names\n",
    "features = []\n",
    "for i in range (1,434):\n",
    "    feature_name = f\"feature_{i}\"\n",
    "    # print(feature_name)\n",
    "    features.append(feature_name)\n",
    "# features.append(\"label\")\n",
    "len(features)"
   ]
  },
  {
   "cell_type": "code",
   "execution_count": 6,
   "metadata": {},
   "outputs": [],
   "source": [
    "# merge test data and labels\n",
    "def merge(data, labels):\n",
    "    dataDf = pd.read_csv(data, header=None, names=features, float_precision='round_trip')\n",
    "    labelsDf = pd.read_csv(labels, header=None, names=['label'])\n",
    "    # turn labels into ints\n",
    "    labelsDf['label'] = labelsDf['label'].astype(int)\n",
    "    merged = pd.merge(dataDf, labelsDf, left_index=True, right_index=True)\n",
    "    # print(f\"data: {dataDf.shape}, labels: {labelsDf.shape}, merged: {merged.shape}\")\n",
    "    # print(f\"{data}: \\n{dataDf.iloc[4]}\")\n",
    "    return merged\n",
    "\n",
    "test_merged = merge(\"original_data/noExclusion_test_data.csv\",\"original_data/noExclusion_test_label.csv\")\n",
    "train_merged = merge(\"original_data/noExclusion_train_data.csv\",\"original_data/noExclusion_train_label.csv\")    \n",
    "# print(f\"test: {test_merged.shape}, train: {train_merged.shape}\")\n",
    "combined = pd.concat([train_merged,test_merged])\n",
    "combined['label']\n",
    "combined.to_csv('combined.csv')\n",
    "test_merged.to_csv('test_merged.csv')\n",
    "train_merged.to_csv('train_merged.csv')\n"
   ]
  }
 ],
 "metadata": {
  "kernelspec": {
   "display_name": ".venv",
   "language": "python",
   "name": "python3"
  },
  "language_info": {
   "codemirror_mode": {
    "name": "ipython",
    "version": 3
   },
   "file_extension": ".py",
   "mimetype": "text/x-python",
   "name": "python",
   "nbconvert_exporter": "python",
   "pygments_lexer": "ipython3",
   "version": "3.9.2"
  },
  "orig_nbformat": 4,
  "vscode": {
   "interpreter": {
    "hash": "69968d942e1dcc7d0770d34dbcb974701730c09224194d51fbd302d9296a213d"
   }
  }
 },
 "nbformat": 4,
 "nbformat_minor": 2
}
