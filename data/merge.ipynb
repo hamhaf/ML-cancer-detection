{
 "cells": [
  {
   "cell_type": "code",
   "execution_count": 1,
   "metadata": {},
   "outputs": [],
   "source": [
    "# imports\n",
    "import pandas as pd"
   ]
  },
  {
   "cell_type": "code",
   "execution_count": 17,
   "metadata": {},
   "outputs": [
    {
     "data": {
      "text/plain": [
       "433"
      ]
     },
     "execution_count": 17,
     "metadata": {},
     "output_type": "execute_result"
    }
   ],
   "source": [
    "# create column names\n",
    "features = []\n",
    "for i in range (1,434):\n",
    "    feature_name = f\"feature_{i}\"\n",
    "    # print(feature_name)\n",
    "    features.append(feature_name)\n",
    "# features.append(\"label\")\n",
    "len(features)"
   ]
  },
  {
   "cell_type": "code",
   "execution_count": 28,
   "metadata": {},
   "outputs": [
    {
     "name": "stdout",
     "output_type": "stream",
     "text": [
      "data: (143, 433), labels: (143, 1), merged: (143, 434)\n",
      "original_data/noExclusion_test_data.csv: \n",
      "feature_1      0.148980\n",
      "feature_2      0.147850\n",
      "feature_3      0.150650\n",
      "feature_4      0.151850\n",
      "feature_5      0.153540\n",
      "                 ...   \n",
      "feature_429    0.063371\n",
      "feature_430    0.063117\n",
      "feature_431    0.061872\n",
      "feature_432    0.059312\n",
      "feature_433    0.061870\n",
      "Name: 4, Length: 433, dtype: float64\n",
      "data: (572, 433), labels: (572, 1), merged: (572, 434)\n",
      "original_data/noExclusion_train_data.csv: \n",
      "feature_1      0.739760\n",
      "feature_2      0.727150\n",
      "feature_3      0.713110\n",
      "feature_4      0.697040\n",
      "feature_5      0.671250\n",
      "                 ...   \n",
      "feature_429    0.104410\n",
      "feature_430    0.098250\n",
      "feature_431    0.099586\n",
      "feature_432    0.092213\n",
      "feature_433    0.087415\n",
      "Name: 4, Length: 433, dtype: float64\n"
     ]
    }
   ],
   "source": [
    "# merge test data and labels\n",
    "def merge(data, labels):\n",
    "    dataDf = pd.read_csv(data, header=None, names=features, float_precision='round_trip')\n",
    "    labelsDf = pd.read_csv(labels, header=None, names=['label'])\n",
    "    merged = pd.merge(dataDf, labelsDf, left_index=True, right_index=True)\n",
    "    print(f\"data: {dataDf.shape}, labels: {labelsDf.shape}, merged: {merged.shape}\")\n",
    "    print(f\"{data}: \\n{dataDf.iloc[4]}\")\n",
    "    return merged\n",
    "\n",
    "test_merged = merge(\"original_data/noExclusion_test_data.csv\",\"original_data/noExclusion_test_label.csv\")\n",
    "train_merged = merge(\"original_data/noExclusion_train_data.csv\",\"original_data/noExclusion_train_label.csv\")    \n",
    "# print(f\"test: {test_merged.shape}, train: {train_merged.shape}\")\n",
    "combined = pd.concat([train_merged,test_merged])\n",
    "combined.to_csv('combined.csv')\n",
    "test_merged.to_csv('test_merged.csv')\n",
    "train_merged.to_csv('train_merged.csv')\n"
   ]
  }
 ],
 "metadata": {
  "kernelspec": {
   "display_name": ".venv",
   "language": "python",
   "name": "python3"
  },
  "language_info": {
   "codemirror_mode": {
    "name": "ipython",
    "version": 3
   },
   "file_extension": ".py",
   "mimetype": "text/x-python",
   "name": "python",
   "nbconvert_exporter": "python",
   "pygments_lexer": "ipython3",
   "version": "3.9.2"
  },
  "orig_nbformat": 4,
  "vscode": {
   "interpreter": {
    "hash": "69968d942e1dcc7d0770d34dbcb974701730c09224194d51fbd302d9296a213d"
   }
  }
 },
 "nbformat": 4,
 "nbformat_minor": 2
}
