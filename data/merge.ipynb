{
 "cells": [
  {
   "cell_type": "code",
   "execution_count": 2,
   "metadata": {},
   "outputs": [],
   "source": [
    "# imports\n",
    "import pandas as pd"
   ]
  },
  {
   "cell_type": "code",
   "execution_count": 2,
   "metadata": {},
   "outputs": [
    {
     "data": {
      "text/plain": [
       "433"
      ]
     },
     "execution_count": 2,
     "metadata": {},
     "output_type": "execute_result"
    }
   ],
   "source": [
    "# create column names\n",
    "features = []\n",
    "for i in range (1,434):\n",
    "    feature_name = f\"feature_{i}\"\n",
    "    # print(feature_name)\n",
    "    features.append(feature_name)\n",
    "# features.append(\"label\")\n",
    "len(features)"
   ]
  },
  {
   "cell_type": "code",
   "execution_count": 3,
   "metadata": {},
   "outputs": [],
   "source": [
    "# merge test data and labels\n",
    "def merge(data, labels):\n",
    "    dataDf = pd.read_csv(data, header=None, names=features, float_precision='round_trip')\n",
    "    labelsDf = pd.read_csv(labels, header=None, names=['label'])\n",
    "    # turn labels into ints\n",
    "    labelsDf['label'] = labelsDf['label'].astype(int)\n",
    "    merged = pd.merge(dataDf, labelsDf, left_index=True, right_index=True)\n",
    "    # print(f\"data: {dataDf.shape}, labels: {labelsDf.shape}, merged: {merged.shape}\")\n",
    "    # print(f\"{data}: \\n{dataDf.iloc[4]}\")\n",
    "    return merged\n"
   ]
  },
  {
   "cell_type": "code",
   "execution_count": null,
   "metadata": {},
   "outputs": [],
   "source": [
    "test_merged = merge(\"original_data/noExclusion_test_data.csv\",\"original_data/noExclusion_test_label.csv\")\n",
    "train_merged = merge(\"original_data/noExclusion_train_data.csv\",\"original_data/noExclusion_train_label.csv\")    \n",
    "# print(f\"test: {test_merged.shape}, train: {train_merged.shape}\")\n",
    "combined = pd.concat([train_merged,test_merged])\n",
    "combined['label']\n",
    "combined.to_csv('combined.csv')\n",
    "test_merged.to_csv('test_merged.csv')\n",
    "train_merged.to_csv('train_merged.csv')"
   ]
  },
  {
   "cell_type": "code",
   "execution_count": 4,
   "metadata": {},
   "outputs": [
    {
     "data": {
      "text/plain": [
       "236"
      ]
     },
     "execution_count": 4,
     "metadata": {},
     "output_type": "execute_result"
    }
   ],
   "source": [
    "import random\n",
    "random.seed(1)\n",
    "# to use for sampling 236 NDBE records (iCodeLikeImDrunk, 2012)\n",
    "indexes = random.sample(range(320), 236)\n",
    "len(indexes)\n",
    "# indexes"
   ]
  },
  {
   "cell_type": "code",
   "execution_count": 5,
   "metadata": {},
   "outputs": [
    {
     "data": {
      "text/plain": [
       "2    236\n",
       "3    236\n",
       "1    159\n",
       "Name: label, dtype: int64"
      ]
     },
     "execution_count": 5,
     "metadata": {},
     "output_type": "execute_result"
    }
   ],
   "source": [
    "# make balanced dataset (balance NDBE and neoplasia)\n",
    "combined = pd.read_csv('combined.csv', index_col=0).reset_index(drop=True)\n",
    "combined['label'].value_counts()\n",
    "# 1: 159, 2: 320, 3: 236\n",
    "squamous = combined.loc[combined['label']==1].reset_index(drop=True)\n",
    "ndbe = combined.loc[combined['label']==2].reset_index(drop=True)\n",
    "neoplasia = combined.loc[combined['label']==3].reset_index(drop=True)\n",
    "\n",
    "# choose the 236 random records\n",
    "balanced_ndbe = ndbe.iloc[indexes]\n",
    "# (LondonRob, 2013)\n",
    "excluded = ndbe.iloc[~ndbe.index.isin(indexes)]\n",
    "squamous['label'].value_counts()\n",
    "\n",
    "# merge back together\n",
    "balanced = pd.concat([squamous, balanced_ndbe, neoplasia]).reset_index(drop=True)\n",
    "balanced['label'].value_counts()"
   ]
  },
  {
   "cell_type": "code",
   "execution_count": 6,
   "metadata": {},
   "outputs": [],
   "source": [
    "# (Hamzah Hafejee, 2022, COMP3611_Coursework_Assessment.ipynb, Comp 3611, University of Leeds)\n",
    "from sklearn.model_selection import StratifiedShuffleSplit, ShuffleSplit\n",
    "\n",
    "def stratified_split(df, feature):\n",
    "    split = StratifiedShuffleSplit(n_splits=1, test_size=0.25,random_state=42)\n",
    "    \n",
    "    # returns 2 sets of indexes for test and train\n",
    "    # hence, .loc is used on the dataset df to retrieve the corresponding records\n",
    "    for train_index, test_index in split.split(df,df[feature]):\n",
    "        strat_train_set = df.loc[train_index]\n",
    "        strat_test_set = df.loc[test_index]\n",
    "    \n",
    "    # for set_ in (strat_train_set, strat_test_set):\n",
    "    #     set_.drop((feature),axis=1,inplace=True)\n",
    "        \n",
    "   \n",
    "    return strat_train_set, strat_test_set\n",
    "\n",
    "train_set, test_set = stratified_split(balanced, 'label')\n",
    "\n",
    "training_set=train_set.drop(\"label\",axis=1)\n",
    "training_labels=train_set[\"label\"].copy()\n",
    "\n",
    "testing = test_set.drop(\"label\",axis=1)\n",
    "testing_labels= test_set[\"label\"].copy()\n",
    "\n",
    "training_set.to_csv('balanced_data/train_data.csv', index=False, header=False)\n",
    "training_labels.to_csv('balanced_data/train_label.csv', index=False, header=False)\n",
    "testing.to_csv('balanced_data/test_data.csv', index=False, header=False)\n",
    "testing_labels.to_csv('balanced_data/test_label.csv', index=False, header=False)\n"
   ]
  },
  {
   "attachments": {},
   "cell_type": "markdown",
   "metadata": {},
   "source": [
    "Manually fixed to make NDBE and neoplasia completely equal"
   ]
  }
 ],
 "metadata": {
  "kernelspec": {
   "display_name": ".venv",
   "language": "python",
   "name": "python3"
  },
  "language_info": {
   "codemirror_mode": {
    "name": "ipython",
    "version": 3
   },
   "file_extension": ".py",
   "mimetype": "text/x-python",
   "name": "python",
   "nbconvert_exporter": "python",
   "pygments_lexer": "ipython3",
   "version": "3.9.2"
  },
  "orig_nbformat": 4,
  "vscode": {
   "interpreter": {
    "hash": "69968d942e1dcc7d0770d34dbcb974701730c09224194d51fbd302d9296a213d"
   }
  }
 },
 "nbformat": 4,
 "nbformat_minor": 2
}
