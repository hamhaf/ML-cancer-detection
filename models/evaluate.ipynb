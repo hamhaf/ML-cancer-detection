{
 "cells": [
  {
   "cell_type": "code",
   "execution_count": null,
   "metadata": {},
   "outputs": [],
   "source": [
    "import pandas as pd, numpy as np"
   ]
  },
  {
   "attachments": {},
   "cell_type": "markdown",
   "metadata": {},
   "source": [
    "# find models with highest accuracy from all experiments\n",
    "## top 3\n",
    "\n",
    "1. SVMSMOTE - RF: 87.4% acc\n",
    "2. SNV_AUGMENTEDV3 - RF: 86.7% acc\n",
    "3. RAW - Ensemble: 86% acc"
   ]
  },
  {
   "cell_type": "markdown",
   "metadata": {},
   "source": [
    "# find models with highest recall from all experiments\n"
   ]
  }
 ],
 "metadata": {
  "language_info": {
   "name": "python"
  },
  "orig_nbformat": 4
 },
 "nbformat": 4,
 "nbformat_minor": 2
}
