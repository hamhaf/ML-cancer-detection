{
 "cells": [
  {
   "cell_type": "code",
   "execution_count": null,
   "metadata": {},
   "outputs": [],
   "source": [
    "import pandas as pd, numpy as np"
   ]
  },
  {
   "attachments": {},
   "cell_type": "markdown",
   "metadata": {},
   "source": [
    "## Find standalone models with highest accuracy from all experiments\n",
    "### Top 3\n",
    "\n",
    "1. SVMSMOTE - RF: 87.4% acc\n",
    "2. SNV_AUGMENTEDV3 - RF: 86.7% acc\n",
    "3. RAW - Ensemble [rf, knn, xgb, svmrbf, nb]: 86% acc (poor recall 67.2%)"
   ]
  },
  {
   "attachments": {},
   "cell_type": "markdown",
   "metadata": {},
   "source": [
    "## Find standalone models with highest recall from all experiments\n",
    "This one was a bit tricky, since many models, such as GNB and SVM-Sig produced very high neoplasia recall, but had very low accuracy overall. Hence, I filtered out any models with less than 75% acc\n",
    "\n",
    "### Top 3\n",
    "\n",
    "1. FS_AUGMENTED - CART: 82.8% rec\n",
    "2. SNV_AUGMENTEDV3 - KNN: 81% rec\n",
    "3. SNV_FS_BALANCED: kNN: 78.9% rec\n",
    "\n",
    "\n",
    "\n",
    "### Honorable mention\n",
    "4. AUGMENTEDV3 - RF & kNN: 75.9% rec *2nd highest scoring standalone model in acc (86.7%) & (80.4% acc)\n",
    "4. KMEANSSMOTE - kNN: 75.9% rec (83.9% acc)\n",
    "5. SVMSMOTE: RF: 74% rec *highest scoring standalone model in acc (87.4%)\n"
   ]
  },
  {
   "attachments": {},
   "cell_type": "markdown",
   "metadata": {},
   "source": [
    "Will optimise best overall experiments using bayesian optimisation, to try and further optimise models\n",
    "\n",
    "Might tweak class weights to get better recall\n",
    "\n",
    "Then will find best ensemble model\n",
    "\n",
    "Then will end implementation there"
   ]
  }
 ],
 "metadata": {
  "language_info": {
   "name": "python"
  },
  "orig_nbformat": 4
 },
 "nbformat": 4,
 "nbformat_minor": 2
}
