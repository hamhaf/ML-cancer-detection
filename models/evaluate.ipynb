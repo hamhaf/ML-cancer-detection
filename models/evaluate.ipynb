{
 "cells": [
  {
   "cell_type": "code",
   "execution_count": null,
   "metadata": {},
   "outputs": [],
   "source": [
    "import pandas as pd, numpy as np"
   ]
  },
  {
   "attachments": {},
   "cell_type": "markdown",
   "metadata": {},
   "source": [
    "## Find standalone models with highest accuracy from all experiments\n",
    "### Top 3\n",
    "\n",
    "1. SVMSMOTE - RF: 87.4% acc\n",
    "2. SNV_AUGMENTEDV3 - RF: 86.7% acc\n",
    "3. RAW - Ensemble [rf, knn, xgb, svmrbf, nb]: 86% acc (poor recall 67.2%)"
   ]
  },
  {
   "attachments": {},
   "cell_type": "markdown",
   "metadata": {},
   "source": [
    "## Find standalone models with highest recall from all experiments\n",
    "This one was a bit tricky, since many models, such as GNB and SVM-Sig produced very high neoplasia recall, but had very low accuracy overall. Hence, I filtered out any models with less than 75% acc\n",
    "\n",
    "### Top 3\n",
    "\n",
    "1. FS_AUGMENTED - CART: 82.8% rec\n",
    "2. SNV_AUGMENTEDV3 - KNN: 81% rec\n",
    "3. SNV_FS_BALANCED: kNN: 78.9% rec\n",
    "\n",
    "\n",
    "\n",
    "### Honorable mention\n",
    "4. AUGMENTEDV3 - RF & kNN: 75.9% rec *2nd highest scoring standalone model in acc (86.7%) & (80.4% acc)\n",
    "4. KMEANSSMOTE - kNN: 75.9% rec (83.9% acc)\n",
    "5. SVMSMOTE: RF: 74% rec *highest scoring standalone model in acc (87.4%)\n"
   ]
  },
  {
   "cell_type": "code",
   "execution_count": 11,
   "metadata": {},
   "outputs": [
    {
     "name": "stdout",
     "output_type": "stream",
     "text": [
      "dict_keys(['snv_FS_my_balanced', 'FS_my_balanced', 'my_balanced', 'snv_my_balanced', 'snv_FS_balanced', 'svmsmote', 'snv_FS_svmsmote', 'raw', 'kmeanssmote', 'balanced', 'snv_balanced', 'augmentedv2', 'feature_select', 'bordersmote', 'smote', 'snv_svmsmote', 'adasynsmote', 'augmented', 'augmentedv3', 'snv_raw', 'snv_augmentedv3', 'my_balancedv2', 'augmented_FS', 'FSv2_my_balanced', 'augmentedv2_FS', 'augmentedv3_FS', 'feature_selectv2'])\n",
      "dict_keys(['FS_my_balanced', 'snv_FS_my_balanced', 'my_balanced', 'augmentedv3_FS', 'snv_my_balanced', 'snv_augmentedv3', 'augmentedv3', 'augmented_FS', 'bordersmote', 'snv_FS_svmsmote', 'FSv2_my_balanced', 'my_balancedv2', 'svmsmote', 'augmentedv2', 'augmented', 'adasynsmote', 'snv_svmsmote', 'kmeanssmote', 'augmentedv2_FS', 'raw', 'smote', 'snv_raw', 'feature_select', 'feature_selectv2', 'balanced', 'snv_FS_balanced', 'snv_balanced'])\n"
     ]
    }
   ],
   "source": [
    "# function to sort scoreboard\n",
    "import json\n",
    "def sort_scores(filename='metrics/scoreboard.json'):\n",
    "    with open(filename,'r') as file:\n",
    "        # First we load existing data into a dict.\n",
    "        file_data = json.load(file)\n",
    "        acc_sort = dict(sorted(file_data.items(), key=lambda item: item[1]['top6']['accuracy'], reverse=True))\n",
    "        rec_sort = dict(sorted(file_data.items(), key=lambda item: item[1]['top6']['recall'], reverse=True))\n",
    "\n",
    "    # with open('metrics/top6acc.json', 'w') as new_file:\n",
    "    #     json.dump(acc_sort, new_file, indent = 4)\n",
    "    print(acc_sort.keys())\n",
    "\n",
    "    # with open('metrics/top6rec.json', 'w') as new_file:\n",
    "    #     json.dump(rec_sort, new_file, indent = 4)\n",
    "    print(rec_sort.keys())\n",
    "\n",
    "\n",
    "sort_scores()"
   ]
  },
  {
   "attachments": {},
   "cell_type": "markdown",
   "metadata": {},
   "source": [
    "# Find best overall experiments (based on top 6 accuracy and recall)\n",
    "Augmented, "
   ]
  },
  {
   "attachments": {},
   "cell_type": "markdown",
   "metadata": {},
   "source": [
    "Will optimise best overall experiments using bayesian optimisation, to try and further optimise models\n",
    "\n",
    "Might tweak class weights to get better recall\n",
    "\n",
    "Then will find best ensemble model\n",
    "\n",
    "Then will end implementation there"
   ]
  }
 ],
 "metadata": {
  "kernelspec": {
   "display_name": ".venv",
   "language": "python",
   "name": "python3"
  },
  "language_info": {
   "codemirror_mode": {
    "name": "ipython",
    "version": 3
   },
   "file_extension": ".py",
   "mimetype": "text/x-python",
   "name": "python",
   "nbconvert_exporter": "python",
   "pygments_lexer": "ipython3",
   "version": "3.9.2"
  },
  "orig_nbformat": 4
 },
 "nbformat": 4,
 "nbformat_minor": 2
}
