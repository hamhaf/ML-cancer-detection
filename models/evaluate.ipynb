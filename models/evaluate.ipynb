{
 "cells": [
  {
   "cell_type": "code",
   "execution_count": null,
   "metadata": {},
   "outputs": [],
   "source": [
    "import pandas as pd, numpy as np"
   ]
  },
  {
   "attachments": {},
   "cell_type": "markdown",
   "metadata": {},
   "source": [
    "## Find standalone models with highest accuracy from all experiments\n",
    "### Top 3\n",
    "\n",
    "1. SVMSMOTE - RF: 87.4% acc\n",
    "2. SNV_AUGMENTEDV3 - RF: 86.7% acc\n",
    "3. RAW - Ensemble [rf, knn, xgb, svmrbf, nb]: 86% acc (poor recall 67.2%)"
   ]
  },
  {
   "attachments": {},
   "cell_type": "markdown",
   "metadata": {},
   "source": [
    "## Find standalone models with highest recall from all experiments\n",
    "This one was a bit tricky, since many models, such as GNB and SVM-Sig produced very high neoplasia recall, but had very low accuracy overall. Hence, I filtered out any models with less than 75% acc\n",
    "\n",
    "### Top 3\n",
    "\n",
    "1. FS_AUGMENTED - CART: 82.8% rec\n",
    "2. SNV_AUGMENTEDV3 - KNN: 81% rec\n",
    "3. SNV_FS_BALANCED: kNN: 78.9% rec\n",
    "\n",
    "\n",
    "\n",
    "### Honorable mention\n",
    "4. AUGMENTEDV3 - RF & kNN: 75.9% rec *2nd highest scoring standalone model in acc (86.7%) & (80.4% acc)\n",
    "4. KMEANSSMOTE - kNN: 75.9% rec (83.9% acc)\n",
    "5. SVMSMOTE: RF: 74% rec *highest scoring standalone model in acc (87.4%)\n"
   ]
  },
  {
   "cell_type": "code",
   "execution_count": 36,
   "metadata": {},
   "outputs": [
    {
     "name": "stdout",
     "output_type": "stream",
     "text": [
      "acc: ['snv_FS_balanced', 'svmsmote', 'snv_FS_svmsmote', 'raw', 'kmeanssmote', 'balanced', 'snv_balanced', 'augmentedv2', 'feature_select', 'bordersmote', 'smote', 'snv_svmsmote', 'adasynsmote', 'augmented', 'augmentedv3', 'snv_raw', 'snv_augmentedv3', 'my_balancedv2', 'augmented_FS', 'augmentedv2_FS', 'augmentedv3_FS', 'feature_selectv2']\n",
      "rec: ['augmentedv3_FS', 'snv_augmentedv3', 'augmentedv3', 'augmented_FS', 'bordersmote', 'snv_FS_svmsmote', 'my_balancedv2', 'svmsmote', 'augmentedv2', 'augmented', 'adasynsmote', 'snv_svmsmote', 'kmeanssmote', 'augmentedv2_FS', 'raw', 'smote', 'snv_raw', 'feature_select', 'feature_selectv2', 'balanced', 'snv_FS_balanced', 'snv_balanced']\n",
      "dic: \n",
      "{\"snv_FS_balanced\": [64, {\"acc_rank\": 1, \"rec_rank\": 21}], \"svmsmote\": [26, {\"acc_rank\": 2, \"rec_rank\": 8}], \"snv_FS_svmsmote\": [21, {\"acc_rank\": 3, \"rec_rank\": 6}], \"raw\": [49, {\"acc_rank\": 4, \"rec_rank\": 15}], \"kmeanssmote\": [44, {\"acc_rank\": 5, \"rec_rank\": 13}], \"balanced\": [66, {\"acc_rank\": 6, \"rec_rank\": 20}], \"snv_balanced\": [73, {\"acc_rank\": 7, \"rec_rank\": 22}], \"augmentedv2\": [35, {\"acc_rank\": 8, \"rec_rank\": 9}], \"feature_select\": [63, {\"acc_rank\": 9, \"rec_rank\": 18}], \"bordersmote\": [25, {\"acc_rank\": 10, \"rec_rank\": 5}], \"smote\": [59, {\"acc_rank\": 11, \"rec_rank\": 16}], \"snv_svmsmote\": [48, {\"acc_rank\": 12, \"rec_rank\": 12}], \"adasynsmote\": [46, {\"acc_rank\": 13, \"rec_rank\": 11}], \"augmented\": [44, {\"acc_rank\": 14, \"rec_rank\": 10}], \"augmentedv3\": [24, {\"acc_rank\": 15, \"rec_rank\": 3}], \"snv_raw\": [67, {\"acc_rank\": 16, \"rec_rank\": 17}], \"snv_augmentedv3\": [23, {\"acc_rank\": 17, \"rec_rank\": 2}], \"my_balancedv2\": [39, {\"acc_rank\": 18, \"rec_rank\": 7}], \"augmented_FS\": [31, {\"acc_rank\": 19, \"rec_rank\": 4}], \"augmentedv2_FS\": [62, {\"acc_rank\": 20, \"rec_rank\": 14}], \"augmentedv3_FS\": [24, {\"acc_rank\": 21, \"rec_rank\": 1}], \"feature_selectv2\": [79, {\"acc_rank\": 22, \"rec_rank\": 19}]} \n",
      "len(keys): 22\n",
      "sorted_dic keys: ['snv_FS_svmsmote', 'snv_augmentedv3', 'augmentedv3', 'augmentedv3_FS', 'bordersmote', 'svmsmote', 'augmented_FS', 'augmentedv2', 'my_balancedv2', 'kmeanssmote', 'augmented', 'adasynsmote', 'snv_svmsmote', 'raw', 'smote', 'augmentedv2_FS', 'feature_select', 'snv_FS_balanced', 'balanced', 'snv_raw', 'snv_balanced', 'feature_selectv2']\n"
     ]
    }
   ],
   "source": [
    "# function to sort scoreboard\n",
    "import json\n",
    "def sort_scores(filename='metrics/scoreboard.json'):\n",
    "    with open(filename,'r') as file:\n",
    "        # First we load existing data into a dict.\n",
    "        file_data = json.load(file)\n",
    "        acc_sort = dict(sorted(file_data.items(), key=lambda item: item[1]['top6']['accuracy'], reverse=True))\n",
    "        rec_sort = dict(sorted(file_data.items(), key=lambda item: item[1]['top6']['recall'], reverse=True))\n",
    "\n",
    "    with open('metrics/top6acc.json', 'w') as new_file:\n",
    "        json.dump(acc_sort, new_file, indent = 4)\n",
    "    acc_keys = list(acc_sort.keys())\n",
    "    print('acc:',list(acc_sort.keys()))\n",
    "\n",
    "    with open('metrics/top6rec.json', 'w') as new_file:\n",
    "        json.dump(rec_sort, new_file, indent = 4)\n",
    "    rec_keys = list(rec_sort.keys())\n",
    "    print('rec:',list(rec_sort.keys()))\n",
    "\n",
    "    dic = {}\n",
    "    # make dic keys\n",
    "    for key in acc_keys:\n",
    "        dic[key] = []\n",
    "\n",
    "    for key in acc_keys:\n",
    "        acc_rank = acc_keys.index(key)+1\n",
    "        rec_rank = rec_keys.index(key)+1\n",
    "        dic[key] = [acc_rank + 3*(rec_rank), {'acc_rank':acc_rank, 'rec_rank':rec_rank}]\n",
    "    \n",
    "    sorted_dic = dict(sorted(dic.items(), key=lambda item: item[1][0]))\n",
    "    with open('metrics/rank_sums.json', 'w') as rank:\n",
    "        json.dump(sorted_dic, rank, indent = 4)\n",
    "\n",
    "    print(f\"dic: \\n{json.dumps(dic)} \\nlen(keys): {len(acc_keys)}\")\n",
    "    print(f\"sorted_dic keys: {list(sorted_dic.keys())}\")\n",
    "sort_scores()"
   ]
  },
  {
   "attachments": {},
   "cell_type": "markdown",
   "metadata": {},
   "source": [
    "# Find best overall experiments (based on top 6 accuracy and recall)\n",
    "The difference between #1 accuracy-ranked experiment and last place is 0.83 - 0.775 = 0.055, i.e. 5.5% accuracy difference\n",
    "\n",
    "The difference between #1 recall-ranked experiment and last place is 0.741 - 0.439 = 0.302, i.e. 30.2% recall difference\n",
    "\n",
    "Hence, while the ranked sums is useful, it isn't fair to equally weight accuracy and recall rank. I added a 3x weight multiplier to recall rank to give it higher precedence.\n",
    "\n",
    "The ranking for the best experiments is now as such:\n",
    "1. 'snv_FS_svmsmote', \n",
    "2. 'snv_augmentedv3',\n",
    "3. 'augmentedv3',\n",
    "4. 'augmentedv3_FS',\n",
    "5. 'bordersmote',\n",
    "6. 'svmsmote', \n",
    "7. 'augmented_FS', \n",
    "8. 'augmentedv2', \n",
    "9. 'my_balancedv2', \n",
    "10. 'kmeanssmote', \n",
    "11. 'augmented', \n",
    "12. 'adasynsmote', \n",
    "13. 'snv_svmsmote', \n",
    "14. 'raw', \n",
    "15. 'smote', \n",
    "16. 'augmentedv2_FS', \n",
    "17. 'feature_select', \n",
    "18. 'snv_FS_balanced', \n",
    "19. 'balanced', \n",
    "20. 'snv_raw', \n",
    "21. 'snv_balanced', \n",
    "22. 'feature_selectv2'"
   ]
  },
  {
   "attachments": {},
   "cell_type": "markdown",
   "metadata": {},
   "source": [
    "Will optimise best overall experiments using bayesian optimisation, to try and further optimise models\n",
    "\n",
    "Might tweak class weights to get better recall\n",
    "\n",
    "Then will find best ensemble model\n",
    "\n",
    "Then will end implementation there, with 2 models. One which optimises accuracy and one which optimses recall (as well as accuracy, but tweaks class wieghs to better favour neoplasia recall). In my recommendations for further research, I will suggest people to figure how to strike the balance such that the high recall of the neoplasia recall model is gained without having to sacrifice overall accuracy."
   ]
  }
 ],
 "metadata": {
  "kernelspec": {
   "display_name": ".venv",
   "language": "python",
   "name": "python3"
  },
  "language_info": {
   "codemirror_mode": {
    "name": "ipython",
    "version": 3
   },
   "file_extension": ".py",
   "mimetype": "text/x-python",
   "name": "python",
   "nbconvert_exporter": "python",
   "pygments_lexer": "ipython3",
   "version": "3.9.2"
  },
  "orig_nbformat": 4
 },
 "nbformat": 4,
 "nbformat_minor": 2
}
